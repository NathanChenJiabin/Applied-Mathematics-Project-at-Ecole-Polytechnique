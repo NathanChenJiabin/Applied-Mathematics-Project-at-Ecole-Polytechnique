{
 "cells": [
  {
   "cell_type": "markdown",
   "metadata": {},
   "source": [
    "# L'objectif"
   ]
  },
  {
   "cell_type": "markdown",
   "metadata": {},
   "source": [
    "Pour n = 100 joueurs de tennis on dispose de p = 6 statistiques : pourcentage de 1er services réussis, de balles de break sauvées, etc. Le but est d'analyser ces données de façon automatique :\n",
    "  - les représenter graphiquement de façon pertinente,   \n",
    "  - déterminer des corrélations entre variables,\n",
    "  - classer les joueurs en di érentes catégories."
   ]
  },
  {
   "cell_type": "code",
   "execution_count": 1,
   "metadata": {
    "collapsed": true
   },
   "outputs": [],
   "source": [
    "import csv\n",
    "\n",
    "import numpy as np\n",
    "\n",
    "import cv2\n",
    "\n",
    "import matplotlib.pyplot as plt"
   ]
  },
  {
   "cell_type": "code",
   "execution_count": 2,
   "metadata": {
    "collapsed": true
   },
   "outputs": [],
   "source": [
    "def extractioncsv(fichiercsv):\n",
    "    liste = []\n",
    "    \n",
    "    with open(fichiercsv, encoding='utf8') as fcsv:\n",
    "        lecteur = csv.reader(fcsv, delimiter=';')\n",
    "        for ligne in lecteur:\n",
    "            liste.append(ligne)\n",
    "    return liste"
   ]
  },
  {
   "cell_type": "code",
   "execution_count": 3,
   "metadata": {
    "collapsed": true
   },
   "outputs": [],
   "source": [
    "TennisChiffres=extractioncsv(\"TennisChiffresTop100_2018.csv\")"
   ]
  },
  {
   "cell_type": "code",
   "execution_count": 4,
   "metadata": {
    "collapsed": true
   },
   "outputs": [],
   "source": [
    "# nom des joueurs\n",
    "list_nom = []\n",
    "for i in range(99):\n",
    "    list_nom.append(TennisChiffres[i+1][0])"
   ]
  },
  {
   "cell_type": "code",
   "execution_count": 5,
   "metadata": {
    "collapsed": true
   },
   "outputs": [],
   "source": [
    "# convert data from string to numpy array\n",
    "data = np.zeros((99,6))\n",
    "for i in range(1,100):\n",
    "    for j in range(1,7):\n",
    "        data[i-1, j-1] = int(TennisChiffres[i][j])"
   ]
  },
  {
   "cell_type": "markdown",
   "metadata": {},
   "source": [
    "## Visualisation : Analyse en Composantes Principales"
   ]
  },
  {
   "cell_type": "markdown",
   "metadata": {},
   "source": [
    "On note Xi,j la j-ème statistique du joueur i. Les données sont donc formées de n points dans Rp, on souhaite les représenter dans R2 de la façon la plus pertinente possible."
   ]
  },
  {
   "cell_type": "markdown",
   "metadata": {},
   "source": [
    "La matrice  X_nor.T*X_nor est la matrice p × p des corrélations, elle est symétrique positive, donc diagonalisable de\n",
    "valeurs propres réelles positives λ1 ≥ · · · ≥ λp ≥ 0. On peut par ailleurs la diagonaliser dans une base orthogonale u1, . . . , up."
   ]
  },
  {
   "cell_type": "code",
   "execution_count": 6,
   "metadata": {
    "collapsed": true
   },
   "outputs": [],
   "source": [
    "# data normalization\n",
    "data_nor = (data-np.mean(data, axis=0))/ np.std(data,axis=0)"
   ]
  },
  {
   "cell_type": "code",
   "execution_count": 7,
   "metadata": {
    "collapsed": true
   },
   "outputs": [],
   "source": [
    "# calcul correlation between six features\n",
    "corr = np.dot(data_nor.T, data_nor)/99"
   ]
  },
  {
   "cell_type": "code",
   "execution_count": 8,
   "metadata": {},
   "outputs": [
    {
     "name": "stdout",
     "output_type": "stream",
     "text": [
      "[[ 1.         -0.77765694  0.54796396 -0.66101629  0.37988454 -0.53184847]\n",
      " [-0.77765694  1.         -0.44626725  0.74093065 -0.3252793   0.65025705]\n",
      " [ 0.54796396 -0.44626725  1.         -0.43164907  0.34873119 -0.57721781]\n",
      " [-0.66101629  0.74093065 -0.43164907  1.         -0.23840842  0.68520568]\n",
      " [ 0.37988454 -0.3252793   0.34873119 -0.23840842  1.         -0.32910091]\n",
      " [-0.53184847  0.65025705 -0.57721781  0.68520568 -0.32910091  1.        ]]\n"
     ]
    }
   ],
   "source": [
    "print(corr)"
   ]
  },
  {
   "cell_type": "markdown",
   "metadata": {},
   "source": [
    "Le point de vue de l'ACP est de chercher le vecteur u = (u1, . . . , up) ∈ Rp tel que la projection du nuage de points sur u ait une inertie maximale"
   ]
  },
  {
   "cell_type": "markdown",
   "metadata": {},
   "source": [
    "### Théorème 1 \n",
    "Soit X = (X1, . . . , Xp) une variable aléatoire à valeurs dans $R^p$, le vecteur propre u1 = (u1, . . . , u1p) associé à λ1 est le vecteur qui maximise u  → Var(< X, u >).\n",
    "De même, le vecteur propre u2 associé à λ2 est celui qui maximise Var(< X,u2 >) parmi les vecteurs orthogonaux à u1."
   ]
  },
  {
   "cell_type": "code",
   "execution_count": 9,
   "metadata": {
    "collapsed": true
   },
   "outputs": [],
   "source": [
    "eigv, eigvec = np.linalg.eig(corr)"
   ]
  },
  {
   "cell_type": "code",
   "execution_count": 11,
   "metadata": {
    "collapsed": true
   },
   "outputs": [],
   "source": [
    "# Attention: np.linalg.eig envoie vecteurs propres en colone\n",
    "eigvec = eigvec.T[np.argsort(eigv)]\n",
    "eigv = eigv[np.argsort(eigv)]"
   ]
  },
  {
   "cell_type": "code",
   "execution_count": 14,
   "metadata": {
    "collapsed": true
   },
   "outputs": [],
   "source": [
    "u1 = eigvec[-1, :]\n",
    "u2 = eigvec[-2, :]"
   ]
  },
  {
   "cell_type": "code",
   "execution_count": 16,
   "metadata": {
    "collapsed": true
   },
   "outputs": [],
   "source": [
    "proj1 = np.dot(data, u1)\n",
    "\n",
    "proj2 = np.dot(data, u2)"
   ]
  },
  {
   "cell_type": "code",
   "execution_count": 17,
   "metadata": {},
   "outputs": [
    {
     "data": {
      "image/png": "[encoded data removed]",
      "text/plain": [
       "<matplotlib.figure.Figure at 0x115aa94a8>"
      ]
     },
     "metadata": {},
     "output_type": "display_data"
    }
   ],
   "source": [
    "plt.figure(figsize=(15,15))\n",
    "plt.scatter(proj1, proj2)\n",
    "for i in range(99):\n",
    "    plt.annotate(list_nom[i], (proj1[i], proj2[i]))\n",
    "plt.xlabel('u1')\n",
    "plt.ylabel('u2')\n",
    "plt.grid()\n",
    "plt.show()"
   ]
  },
  {
   "cell_type": "markdown",
   "metadata": {},
   "source": [
    "### Disque des corrélations\n",
    "Pour un paramètre i ≤ p, on pose\n",
    "$r_{i,1} = u^{1}_{i} \\sqrtλ_{1} , r_{i,2} = u^{2}_{i} \\sqrtλ_{2} $."
   ]
  },
  {
   "cell_type": "markdown",
   "metadata": {},
   "source": [
    "Tracer les p points de coordonnées ($r_{i,1},r_{i,2}$) ainsi que le cercle unité.\n",
    "Les points Ai = ($r_{i,1}, r_{i,2}$) se trouvent à l'intérieur du cercle unité. Le dessin obtenu s'interprète de la\n",
    "façon suivante : les variables signi catives se trouvent au bord du cercle"
   ]
  },
  {
   "cell_type": "code",
   "execution_count": 18,
   "metadata": {
    "collapsed": true
   },
   "outputs": [],
   "source": [
    "r1 = np.sqrt(eigv[-1])*u1\n",
    "\n",
    "r2 = np.sqrt(eigv[-2])*u2"
   ]
  },
  {
   "cell_type": "code",
   "execution_count": 19,
   "metadata": {},
   "outputs": [
    {
     "data": {
      "image/png": "[encoded data removed]",
      "text/plain": [
       "<matplotlib.figure.Figure at 0x11d7703c8>"
      ]
     },
     "metadata": {},
     "output_type": "display_data"
    }
   ],
   "source": [
    "fig, ax = plt.subplots()\n",
    "plt.xlim([-2,2])\n",
    "plt.ylim([-2,2])\n",
    "ax.add_artist(plt.Circle((0,0), 1, fill=False))\n",
    "plt.scatter(r1, r2)\n",
    "plt.show()"
   ]
  },
  {
   "cell_type": "code",
   "execution_count": 20,
   "metadata": {
    "collapsed": true
   },
   "outputs": [],
   "source": [
    "def dist(a, b, ax=1):\n",
    "    return np.linalg.norm(a - b, axis=ax)"
   ]
  },
  {
   "cell_type": "code",
   "execution_count": 21,
   "metadata": {},
   "outputs": [
    {
     "name": "stdout",
     "output_type": "stream",
     "text": [
      "[[ -62. -126.]\n",
      " [ -89. -107.]\n",
      " [ -59. -116.]]\n"
     ]
    }
   ],
   "source": [
    "k = 3 # k clusters\n",
    "# Initial Points\n",
    "# X coordinates of k random centroids\n",
    "C_x = np.random.randint(np.min(proj1), np.max(proj1), size=k)\n",
    "# Y coordinates of k random centroids\n",
    "C_y = np.random.randint(np.min(proj2), np.max(proj2), size=k)\n",
    "C = np.array(list(zip(C_x, C_y)), dtype=np.float32)\n",
    "print(C)"
   ]
  },
  {
   "cell_type": "code",
   "execution_count": 39,
   "metadata": {},
   "outputs": [],
   "source": [
    "C_old = np.zeros_like(C)\n",
    "# Cluster lables(0, 1, 2)\n",
    "number_points = data.shape[0]\n",
    "clusters = np.zeros(number_points)\n",
    "# Error func. - Distance between new centroids and old centroids\n",
    "error = np.mean(np.linalg.norm(C-C_old, axis=1))\n",
    "# Loop will run till the error smaller than epsilon\n",
    "epsilon = 0.001"
   ]
  },
  {
   "cell_type": "code",
   "execution_count": 23,
   "metadata": {
    "collapsed": true
   },
   "outputs": [],
   "source": [
    "# projection data onto new sapce\n",
    "\n",
    "u1_ = np.expand_dims(u1, axis=-1)\n",
    "u2_ = np.expand_dims(u2, axis=-1)\n",
    "new_space = np.concatenate((u1_,u2_),axis=1)\n",
    "\n",
    "data_proj = np.dot(data, new_space)"
   ]
  },
  {
   "cell_type": "code",
   "execution_count": 41,
   "metadata": {},
   "outputs": [
    {
     "name": "stdout",
     "output_type": "stream",
     "text": [
      "training ...\n",
      "training ...\n",
      "training ...\n",
      "training ...\n",
      "training ...\n",
      "training ...\n",
      "training ...\n",
      "training ...\n",
      "training ...\n"
     ]
    }
   ],
   "source": [
    "# Clustering...\n",
    "\n",
    "while error > epsilon:\n",
    "    \n",
    "    print('training ...')\n",
    "    for i in range(number_points):\n",
    "        distances = dist(data_proj[i], C)\n",
    "        cluster = np.argmin(distances)\n",
    "        clusters[i] = cluster\n",
    "    \n",
    "    C_old = np.copy(C)\n",
    "    \n",
    "    # Calcul new centroids according to current clusters\n",
    "    for i in range(k):\n",
    "        points = [data_proj[j] for j in range(number_points) if clusters[j] == i]\n",
    "        C[i] = np.mean(points, axis=0)\n",
    "    \n",
    "    error = np.mean(np.linalg.norm(C-C_old, axis=1))"
   ]
  },
  {
   "cell_type": "markdown",
   "metadata": {},
   "source": [
    "### Visualization of clusters"
   ]
  },
  {
   "cell_type": "code",
   "execution_count": 43,
   "metadata": {},
   "outputs": [
    {
     "data": {
      "image/png": "[encoded data removed]",
      "text/plain": [
       "<matplotlib.figure.Figure at 0x11e05c128>"
      ]
     },
     "metadata": {},
     "output_type": "display_data"
    }
   ],
   "source": [
    "colors = ['r', 'g', 'b']\n",
    "fig, ax = plt.subplots()\n",
    "for i in range(k):\n",
    "        points = np.array([data_proj[j] for j in range(number_points) if clusters[j] == i])\n",
    "        ax.scatter(points[:, 0], points[:, 1], s=None, c=colors[i])\n",
    "ax.scatter(C[:, 0], C[:, 1], marker='*', s=200, c='#050505')\n",
    "plt.show()"
   ]
  },
  {
   "cell_type": "code",
   "execution_count": null,
   "metadata": {
    "collapsed": true
   },
   "outputs": [],
   "source": []
  }
 ],
 "metadata": {
  "kernelspec": {
   "display_name": "Python 3",
   "language": "python",
   "name": "python3"
  },
  "language_info": {
   "codemirror_mode": {
    "name": "ipython",
    "version": 3
   },
   "file_extension": ".py",
   "mimetype": "text/x-python",
   "name": "python",
   "nbconvert_exporter": "python",
   "pygments_lexer": "ipython3",
   "version": "3.5.4"
  }
 },
 "nbformat": 4,
 "nbformat_minor": 2
}
